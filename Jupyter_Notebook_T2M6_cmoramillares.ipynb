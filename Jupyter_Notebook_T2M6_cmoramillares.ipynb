{
  "cells": [
    {
      "cell_type": "markdown",
      "metadata": {
        "id": "9c5e64dc-2bc7-4640-9b71-877eda7b6100"
      },
      "source": [
        "<center>\n",
        "    <img src=\"https://cf-courses-data.s3.us.cloud-object-storage.appdomain.cloud/IBMDeveloperSkillsNetwork-DS0105EN-SkillsNetwork/labs/Module2/images/SN_web_lightmode.png\" width=\"300\" alt=\"cognitiveclass.ai logo\">\n",
        "</center>\n"
      ]
    },
    {
      "cell_type": "markdown",
      "metadata": {
        "id": "bca0d27a-24c6-4c43-b116-c73c8d9ab219"
      },
      "source": [
        "# Hands-on Lab: Create your Jupyter Notebook\n"
      ]
    },
    {
      "cell_type": "markdown",
      "metadata": {
        "id": "8b126e2f-912e-42e0-8d57-43862ac465fc"
      },
      "source": [
        "#### Add your code below following the instructions given in the course\n"
      ]
    },
    {
      "cell_type": "markdown",
      "source": [
        "**Jupyter_Notebook_T2M6_cmoramillares.ipynb**"
      ],
      "metadata": {
        "id": "3TgDdkNBz3mx"
      }
    },
    {
      "cell_type": "markdown",
      "source": [
        "Introduction: Hello world\n",
        "\n",
        "Data Science (DS) is an interdisciplinary field that uses methods, processes, algorithms, and systems to extract knowledge and information from structured and unstructured data. In this notebook, we will explore some basic elements of data science and Python."
      ],
      "metadata": {
        "id": "WLo6BwVL0EMq"
      }
    },
    {
      "cell_type": "markdown",
      "source": [
        "We are going to list some languages related to DS\n",
        "\n",
        "1. Python\n",
        "2. R\n",
        "3. SQL\n",
        "4. Julia\n",
        "5. Scala\n",
        "6. Java\n",
        "7. MATLAB"
      ],
      "metadata": {
        "id": "r3D22eai0o-o"
      }
    },
    {
      "cell_type": "markdown",
      "source": [
        "We are going to list some librarys of DS\n",
        "1. Pandas\n",
        "2. NumPy\n",
        "3. Matplotlib\n",
        "4. Seaborn\n",
        "5. Scikit-learn\n",
        "6. TensorFlow\n",
        "7. Keras\n",
        "8. PyTorch"
      ],
      "metadata": {
        "id": "BnibunNb0wsO"
      }
    },
    {
      "cell_type": "markdown",
      "source": [
        "We are going to list tools of DS in spanish\n",
        "\n",
        "| Herramienta                | Descripción                                  |\n",
        "|----------------------------|----------------------------------------------|\n",
        "| Jupyter Notebook           | Entorno interactivo para análisis de datos   |\n",
        "| RStudio                    | IDE para el lenguaje de programación R       |\n",
        "| Apache Hadoop              | Marco de procesamiento distribuido           |\n",
        "| Tableau                    | Herramienta de visualización de datos        |\n",
        "| PowerBI                    | Herramienta de análisis de datos y visualización |\n",
        "| TensorFlow                 | Biblioteca de aprendizaje profundo           |\n",
        "| RapidMiner                 | Plataforma de análisis de datos              |\n"
      ],
      "metadata": {
        "id": "44ZW-E2c05Xt"
      }
    },
    {
      "cell_type": "markdown",
      "source": [
        "We are going to list some arithmetic expressions\n",
        "\n",
        "- Addition: \\( a + b \\)\n",
        "- Subtraction: \\( a - b \\)\n",
        "- Multiplication: \\( a × b \\)\n",
        "- Division: \\( a ÷ b \\)\n",
        "\n",
        "we are going to multiply and then sum numbers"
      ],
      "metadata": {
        "id": "KHLkPoHz1Kou"
      }
    },
    {
      "cell_type": "code",
      "metadata": {
        "colab": {
          "base_uri": "https://localhost:8080/"
        },
        "id": "e7ba372f-335a-4836-943b-f9cf0fa309b0",
        "outputId": "4b6a6e0b-76ae-42d5-bb23-14e87c050e52"
      },
      "outputs": [
        {
          "output_type": "stream",
          "name": "stdout",
          "text": [
            "10\n",
            "2\n",
            "the product of numbers  10.0 and  2.0 is  20.0 and its sum is  12.0\n"
          ]
        }
      ],
      "source": [
        "a = input()\n",
        "a = float(a)\n",
        "b = input()\n",
        "b = float(b)\n",
        "product = a*b\n",
        "sum = a+b\n",
        "print('the product of numbers ', a, 'and ', b, 'is ', product, 'and its sum is ', sum)"
      ],
      "execution_count": 2
    },
    {
      "cell_type": "markdown",
      "source": [
        "Here we going to convert minutes in hours"
      ],
      "metadata": {
        "id": "Q65WtMeM2V0e"
      }
    },
    {
      "cell_type": "code",
      "source": [
        "minutes = input()\n",
        "minutes = int(minutes)\n",
        "hours = minutes / 60.\n",
        "print('the conversion of ', minutes, 'minutes, to hours, is ', hours, 'hours')"
      ],
      "metadata": {
        "colab": {
          "base_uri": "https://localhost:8080/"
        },
        "id": "If6HVQas2Zyu",
        "outputId": "3564646a-ed69-4805-e0b3-85b585c088cf"
      },
      "execution_count": 3,
      "outputs": [
        {
          "output_type": "stream",
          "name": "stdout",
          "text": [
            "120\n",
            "the conversion of  120 minutes, to hours, is  2.0 hours\n"
          ]
        }
      ]
    },
    {
      "cell_type": "markdown",
      "source": [
        "Now the reasons of this homework were reach the following objectives\n",
        "\n",
        "1. Learn the basic concepts of data science.\n",
        "2. Become familiar with Python tools and libraries for data science.\n",
        "3. Develop practical skills using Jupyter Notebook.\n",
        "4. Apply arithmetic expressions and programming concepts."
      ],
      "metadata": {
        "id": "vseaW9fY23Wz"
      }
    },
    {
      "cell_type": "markdown",
      "source": [
        "**Author:** Christian Mora Millares"
      ],
      "metadata": {
        "id": "zY98FRvB2_OV"
      }
    },
    {
      "cell_type": "markdown",
      "metadata": {
        "id": "b5f467ed-efe7-45ac-a08b-b2d48c26ba81"
      },
      "source": [
        "Copyright ©2024 IBM Corporation. All rights reserved.\n"
      ]
    }
  ],
  "metadata": {
    "kernelspec": {
      "display_name": "Python",
      "language": "python",
      "name": "conda-env-python-py"
    },
    "language_info": {
      "name": "python",
      "version": "3.7.12",
      "mimetype": "text/x-python",
      "codemirror_mode": {
        "name": "ipython",
        "version": 3
      },
      "pygments_lexer": "ipython3",
      "nbconvert_exporter": "python",
      "file_extension": ".py"
    },
    "prev_pub_hash": "9e1985db9844176462bd1d5863048c9f3d17404bbc6a648be9084b0c42b29347",
    "colab": {
      "provenance": []
    }
  },
  "nbformat": 4,
  "nbformat_minor": 0
}